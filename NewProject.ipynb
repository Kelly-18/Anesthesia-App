{
 "cells": [
  {
   "cell_type": "code",
   "execution_count": 1,
   "id": "a171c766",
   "metadata": {},
   "outputs": [],
   "source": [
    "import pandas as pd\n",
    "import numpy as np\n",
    "import matplotlib.pyplot as plt\n",
    "import seaborn as sns"
   ]
  },
  {
   "cell_type": "code",
   "execution_count": 2,
   "id": "133d3282",
   "metadata": {},
   "outputs": [
    {
     "data": {
      "text/html": [
       "<div>\n",
       "<style scoped>\n",
       "    .dataframe tbody tr th:only-of-type {\n",
       "        vertical-align: middle;\n",
       "    }\n",
       "\n",
       "    .dataframe tbody tr th {\n",
       "        vertical-align: top;\n",
       "    }\n",
       "\n",
       "    .dataframe thead th {\n",
       "        text-align: right;\n",
       "    }\n",
       "</style>\n",
       "<table border=\"1\" class=\"dataframe\">\n",
       "  <thead>\n",
       "    <tr style=\"text-align: right;\">\n",
       "      <th></th>\n",
       "      <th>Weight</th>\n",
       "      <th>Age</th>\n",
       "      <th>Gender</th>\n",
       "      <th>SBP</th>\n",
       "      <th>DBP</th>\n",
       "      <th>HeartRate</th>\n",
       "      <th>MAP</th>\n",
       "      <th>Oxygen_saturation</th>\n",
       "      <th>Timestamp</th>\n",
       "      <th>Remifentanil_flow</th>\n",
       "    </tr>\n",
       "  </thead>\n",
       "  <tbody>\n",
       "    <tr>\n",
       "      <th>0</th>\n",
       "      <td>67.3</td>\n",
       "      <td>30</td>\n",
       "      <td>male</td>\n",
       "      <td>118</td>\n",
       "      <td>75</td>\n",
       "      <td>102</td>\n",
       "      <td>65</td>\n",
       "      <td>86</td>\n",
       "      <td>1</td>\n",
       "      <td>1.2</td>\n",
       "    </tr>\n",
       "    <tr>\n",
       "      <th>1</th>\n",
       "      <td>65.0</td>\n",
       "      <td>33</td>\n",
       "      <td>female</td>\n",
       "      <td>114</td>\n",
       "      <td>80</td>\n",
       "      <td>95</td>\n",
       "      <td>74</td>\n",
       "      <td>88</td>\n",
       "      <td>1</td>\n",
       "      <td>1.2</td>\n",
       "    </tr>\n",
       "    <tr>\n",
       "      <th>2</th>\n",
       "      <td>70.5</td>\n",
       "      <td>50</td>\n",
       "      <td>male</td>\n",
       "      <td>115</td>\n",
       "      <td>79</td>\n",
       "      <td>98</td>\n",
       "      <td>65</td>\n",
       "      <td>68</td>\n",
       "      <td>1</td>\n",
       "      <td>2.2</td>\n",
       "    </tr>\n",
       "    <tr>\n",
       "      <th>3</th>\n",
       "      <td>68.6</td>\n",
       "      <td>46</td>\n",
       "      <td>female</td>\n",
       "      <td>147</td>\n",
       "      <td>92</td>\n",
       "      <td>103</td>\n",
       "      <td>75</td>\n",
       "      <td>74</td>\n",
       "      <td>1</td>\n",
       "      <td>2.2</td>\n",
       "    </tr>\n",
       "    <tr>\n",
       "      <th>4</th>\n",
       "      <td>74.5</td>\n",
       "      <td>35</td>\n",
       "      <td>male</td>\n",
       "      <td>112</td>\n",
       "      <td>75</td>\n",
       "      <td>110</td>\n",
       "      <td>62</td>\n",
       "      <td>80</td>\n",
       "      <td>1</td>\n",
       "      <td>1.2</td>\n",
       "    </tr>\n",
       "    <tr>\n",
       "      <th>...</th>\n",
       "      <td>...</td>\n",
       "      <td>...</td>\n",
       "      <td>...</td>\n",
       "      <td>...</td>\n",
       "      <td>...</td>\n",
       "      <td>...</td>\n",
       "      <td>...</td>\n",
       "      <td>...</td>\n",
       "      <td>...</td>\n",
       "      <td>...</td>\n",
       "    </tr>\n",
       "    <tr>\n",
       "      <th>671</th>\n",
       "      <td>50.0</td>\n",
       "      <td>32</td>\n",
       "      <td>male</td>\n",
       "      <td>144</td>\n",
       "      <td>89</td>\n",
       "      <td>94</td>\n",
       "      <td>75</td>\n",
       "      <td>90</td>\n",
       "      <td>1</td>\n",
       "      <td>1.5</td>\n",
       "    </tr>\n",
       "    <tr>\n",
       "      <th>672</th>\n",
       "      <td>50.0</td>\n",
       "      <td>32</td>\n",
       "      <td>female</td>\n",
       "      <td>146</td>\n",
       "      <td>89</td>\n",
       "      <td>94</td>\n",
       "      <td>75</td>\n",
       "      <td>88</td>\n",
       "      <td>2</td>\n",
       "      <td>1.3</td>\n",
       "    </tr>\n",
       "    <tr>\n",
       "      <th>673</th>\n",
       "      <td>50.0</td>\n",
       "      <td>32</td>\n",
       "      <td>female</td>\n",
       "      <td>145</td>\n",
       "      <td>90</td>\n",
       "      <td>93</td>\n",
       "      <td>75</td>\n",
       "      <td>87</td>\n",
       "      <td>2</td>\n",
       "      <td>1.4</td>\n",
       "    </tr>\n",
       "    <tr>\n",
       "      <th>674</th>\n",
       "      <td>50.0</td>\n",
       "      <td>32</td>\n",
       "      <td>male</td>\n",
       "      <td>168</td>\n",
       "      <td>87</td>\n",
       "      <td>97</td>\n",
       "      <td>75</td>\n",
       "      <td>78</td>\n",
       "      <td>2</td>\n",
       "      <td>1.4</td>\n",
       "    </tr>\n",
       "    <tr>\n",
       "      <th>675</th>\n",
       "      <td>58.5</td>\n",
       "      <td>30</td>\n",
       "      <td>male</td>\n",
       "      <td>160</td>\n",
       "      <td>93</td>\n",
       "      <td>93</td>\n",
       "      <td>74</td>\n",
       "      <td>67</td>\n",
       "      <td>2</td>\n",
       "      <td>1.4</td>\n",
       "    </tr>\n",
       "  </tbody>\n",
       "</table>\n",
       "<p>676 rows × 10 columns</p>\n",
       "</div>"
      ],
      "text/plain": [
       "     Weight  Age  Gender  SBP  DBP  HeartRate  MAP  Oxygen_saturation  \\\n",
       "0      67.3   30    male  118   75        102   65                 86   \n",
       "1      65.0   33  female  114   80         95   74                 88   \n",
       "2      70.5   50    male  115   79         98   65                 68   \n",
       "3      68.6   46  female  147   92        103   75                 74   \n",
       "4      74.5   35    male  112   75        110   62                 80   \n",
       "..      ...  ...     ...  ...  ...        ...  ...                ...   \n",
       "671    50.0   32    male  144   89         94   75                 90   \n",
       "672    50.0   32  female  146   89         94   75                 88   \n",
       "673    50.0   32  female  145   90         93   75                 87   \n",
       "674    50.0   32    male  168   87         97   75                 78   \n",
       "675    58.5   30    male  160   93         93   74                 67   \n",
       "\n",
       "     Timestamp  Remifentanil_flow  \n",
       "0            1                1.2  \n",
       "1            1                1.2  \n",
       "2            1                2.2  \n",
       "3            1                2.2  \n",
       "4            1                1.2  \n",
       "..         ...                ...  \n",
       "671          1                1.5  \n",
       "672          2                1.3  \n",
       "673          2                1.4  \n",
       "674          2                1.4  \n",
       "675          2                1.4  \n",
       "\n",
       "[676 rows x 10 columns]"
      ]
     },
     "execution_count": 2,
     "metadata": {},
     "output_type": "execute_result"
    }
   ],
   "source": [
    "dataset = pd.read_excel('dataset.csv.xlsx')\n",
    "dataset"
   ]
  },
  {
   "cell_type": "code",
   "execution_count": 3,
   "id": "78b837fd",
   "metadata": {},
   "outputs": [
    {
     "data": {
      "text/plain": [
       "Weight               0\n",
       "Age                  0\n",
       "Gender               0\n",
       "SBP                  0\n",
       "DBP                  0\n",
       "HeartRate            0\n",
       "MAP                  0\n",
       "Oxygen_saturation    0\n",
       "Timestamp            0\n",
       "Remifentanil_flow    0\n",
       "dtype: int64"
      ]
     },
     "execution_count": 3,
     "metadata": {},
     "output_type": "execute_result"
    }
   ],
   "source": [
    "dataset.isnull().sum()"
   ]
  },
  {
   "cell_type": "code",
   "execution_count": 4,
   "id": "40d2e26b",
   "metadata": {},
   "outputs": [
    {
     "data": {
      "text/html": [
       "<div>\n",
       "<style scoped>\n",
       "    .dataframe tbody tr th:only-of-type {\n",
       "        vertical-align: middle;\n",
       "    }\n",
       "\n",
       "    .dataframe tbody tr th {\n",
       "        vertical-align: top;\n",
       "    }\n",
       "\n",
       "    .dataframe thead th {\n",
       "        text-align: right;\n",
       "    }\n",
       "</style>\n",
       "<table border=\"1\" class=\"dataframe\">\n",
       "  <thead>\n",
       "    <tr style=\"text-align: right;\">\n",
       "      <th></th>\n",
       "      <th>Weight</th>\n",
       "      <th>Age</th>\n",
       "      <th>SBP</th>\n",
       "      <th>DBP</th>\n",
       "      <th>HeartRate</th>\n",
       "      <th>MAP</th>\n",
       "      <th>Oxygen_saturation</th>\n",
       "      <th>Timestamp</th>\n",
       "      <th>Remifentanil_flow</th>\n",
       "    </tr>\n",
       "  </thead>\n",
       "  <tbody>\n",
       "    <tr>\n",
       "      <th>count</th>\n",
       "      <td>676.000000</td>\n",
       "      <td>676.000000</td>\n",
       "      <td>676.000000</td>\n",
       "      <td>676.000000</td>\n",
       "      <td>676.000000</td>\n",
       "      <td>676.000000</td>\n",
       "      <td>676.000000</td>\n",
       "      <td>676.000000</td>\n",
       "      <td>676.000000</td>\n",
       "    </tr>\n",
       "    <tr>\n",
       "      <th>mean</th>\n",
       "      <td>63.280769</td>\n",
       "      <td>42.591716</td>\n",
       "      <td>129.721893</td>\n",
       "      <td>83.378698</td>\n",
       "      <td>93.720414</td>\n",
       "      <td>70.025148</td>\n",
       "      <td>77.940828</td>\n",
       "      <td>1.513314</td>\n",
       "      <td>1.682396</td>\n",
       "    </tr>\n",
       "    <tr>\n",
       "      <th>std</th>\n",
       "      <td>8.910868</td>\n",
       "      <td>10.240465</td>\n",
       "      <td>20.569727</td>\n",
       "      <td>6.706222</td>\n",
       "      <td>11.092217</td>\n",
       "      <td>5.097940</td>\n",
       "      <td>9.690441</td>\n",
       "      <td>0.500193</td>\n",
       "      <td>0.517631</td>\n",
       "    </tr>\n",
       "    <tr>\n",
       "      <th>min</th>\n",
       "      <td>45.000000</td>\n",
       "      <td>27.000000</td>\n",
       "      <td>97.000000</td>\n",
       "      <td>70.000000</td>\n",
       "      <td>68.000000</td>\n",
       "      <td>61.000000</td>\n",
       "      <td>8.000000</td>\n",
       "      <td>1.000000</td>\n",
       "      <td>1.000000</td>\n",
       "    </tr>\n",
       "    <tr>\n",
       "      <th>25%</th>\n",
       "      <td>55.975000</td>\n",
       "      <td>34.000000</td>\n",
       "      <td>112.000000</td>\n",
       "      <td>78.000000</td>\n",
       "      <td>86.000000</td>\n",
       "      <td>65.000000</td>\n",
       "      <td>70.000000</td>\n",
       "      <td>1.000000</td>\n",
       "      <td>1.200000</td>\n",
       "    </tr>\n",
       "    <tr>\n",
       "      <th>50%</th>\n",
       "      <td>60.000000</td>\n",
       "      <td>38.000000</td>\n",
       "      <td>120.000000</td>\n",
       "      <td>80.000000</td>\n",
       "      <td>94.000000</td>\n",
       "      <td>67.000000</td>\n",
       "      <td>78.000000</td>\n",
       "      <td>2.000000</td>\n",
       "      <td>1.400000</td>\n",
       "    </tr>\n",
       "    <tr>\n",
       "      <th>75%</th>\n",
       "      <td>70.500000</td>\n",
       "      <td>54.000000</td>\n",
       "      <td>148.000000</td>\n",
       "      <td>89.000000</td>\n",
       "      <td>103.000000</td>\n",
       "      <td>75.000000</td>\n",
       "      <td>87.000000</td>\n",
       "      <td>2.000000</td>\n",
       "      <td>2.200000</td>\n",
       "    </tr>\n",
       "    <tr>\n",
       "      <th>max</th>\n",
       "      <td>82.000000</td>\n",
       "      <td>59.000000</td>\n",
       "      <td>172.000000</td>\n",
       "      <td>99.000000</td>\n",
       "      <td>125.000000</td>\n",
       "      <td>78.000000</td>\n",
       "      <td>97.000000</td>\n",
       "      <td>2.000000</td>\n",
       "      <td>2.600000</td>\n",
       "    </tr>\n",
       "  </tbody>\n",
       "</table>\n",
       "</div>"
      ],
      "text/plain": [
       "           Weight         Age         SBP         DBP   HeartRate         MAP  \\\n",
       "count  676.000000  676.000000  676.000000  676.000000  676.000000  676.000000   \n",
       "mean    63.280769   42.591716  129.721893   83.378698   93.720414   70.025148   \n",
       "std      8.910868   10.240465   20.569727    6.706222   11.092217    5.097940   \n",
       "min     45.000000   27.000000   97.000000   70.000000   68.000000   61.000000   \n",
       "25%     55.975000   34.000000  112.000000   78.000000   86.000000   65.000000   \n",
       "50%     60.000000   38.000000  120.000000   80.000000   94.000000   67.000000   \n",
       "75%     70.500000   54.000000  148.000000   89.000000  103.000000   75.000000   \n",
       "max     82.000000   59.000000  172.000000   99.000000  125.000000   78.000000   \n",
       "\n",
       "       Oxygen_saturation   Timestamp  Remifentanil_flow  \n",
       "count         676.000000  676.000000         676.000000  \n",
       "mean           77.940828    1.513314           1.682396  \n",
       "std             9.690441    0.500193           0.517631  \n",
       "min             8.000000    1.000000           1.000000  \n",
       "25%            70.000000    1.000000           1.200000  \n",
       "50%            78.000000    2.000000           1.400000  \n",
       "75%            87.000000    2.000000           2.200000  \n",
       "max            97.000000    2.000000           2.600000  "
      ]
     },
     "execution_count": 4,
     "metadata": {},
     "output_type": "execute_result"
    }
   ],
   "source": [
    "dataset.describe()"
   ]
  },
  {
   "cell_type": "code",
   "execution_count": 5,
   "id": "a7af803c",
   "metadata": {},
   "outputs": [
    {
     "data": {
      "text/html": [
       "<div>\n",
       "<style scoped>\n",
       "    .dataframe tbody tr th:only-of-type {\n",
       "        vertical-align: middle;\n",
       "    }\n",
       "\n",
       "    .dataframe tbody tr th {\n",
       "        vertical-align: top;\n",
       "    }\n",
       "\n",
       "    .dataframe thead th {\n",
       "        text-align: right;\n",
       "    }\n",
       "</style>\n",
       "<table border=\"1\" class=\"dataframe\">\n",
       "  <thead>\n",
       "    <tr style=\"text-align: right;\">\n",
       "      <th></th>\n",
       "      <th>female</th>\n",
       "      <th>male</th>\n",
       "    </tr>\n",
       "  </thead>\n",
       "  <tbody>\n",
       "    <tr>\n",
       "      <th>0</th>\n",
       "      <td>0</td>\n",
       "      <td>1</td>\n",
       "    </tr>\n",
       "    <tr>\n",
       "      <th>1</th>\n",
       "      <td>1</td>\n",
       "      <td>0</td>\n",
       "    </tr>\n",
       "    <tr>\n",
       "      <th>2</th>\n",
       "      <td>0</td>\n",
       "      <td>1</td>\n",
       "    </tr>\n",
       "    <tr>\n",
       "      <th>3</th>\n",
       "      <td>1</td>\n",
       "      <td>0</td>\n",
       "    </tr>\n",
       "    <tr>\n",
       "      <th>4</th>\n",
       "      <td>0</td>\n",
       "      <td>1</td>\n",
       "    </tr>\n",
       "  </tbody>\n",
       "</table>\n",
       "</div>"
      ],
      "text/plain": [
       "   female  male\n",
       "0       0     1\n",
       "1       1     0\n",
       "2       0     1\n",
       "3       1     0\n",
       "4       0     1"
      ]
     },
     "execution_count": 5,
     "metadata": {},
     "output_type": "execute_result"
    }
   ],
   "source": [
    "dummy = pd.get_dummies(dataset['Gender'])\n",
    "dummy.head()"
   ]
  },
  {
   "cell_type": "code",
   "execution_count": 6,
   "id": "4d006e7c",
   "metadata": {},
   "outputs": [
    {
     "data": {
      "text/html": [
       "<div>\n",
       "<style scoped>\n",
       "    .dataframe tbody tr th:only-of-type {\n",
       "        vertical-align: middle;\n",
       "    }\n",
       "\n",
       "    .dataframe tbody tr th {\n",
       "        vertical-align: top;\n",
       "    }\n",
       "\n",
       "    .dataframe thead th {\n",
       "        text-align: right;\n",
       "    }\n",
       "</style>\n",
       "<table border=\"1\" class=\"dataframe\">\n",
       "  <thead>\n",
       "    <tr style=\"text-align: right;\">\n",
       "      <th></th>\n",
       "      <th>Weight</th>\n",
       "      <th>Age</th>\n",
       "      <th>Gender</th>\n",
       "      <th>SBP</th>\n",
       "      <th>DBP</th>\n",
       "      <th>HeartRate</th>\n",
       "      <th>MAP</th>\n",
       "      <th>Oxygen_saturation</th>\n",
       "      <th>Timestamp</th>\n",
       "      <th>Remifentanil_flow</th>\n",
       "      <th>female</th>\n",
       "      <th>male</th>\n",
       "    </tr>\n",
       "  </thead>\n",
       "  <tbody>\n",
       "    <tr>\n",
       "      <th>0</th>\n",
       "      <td>67.3</td>\n",
       "      <td>30</td>\n",
       "      <td>male</td>\n",
       "      <td>118</td>\n",
       "      <td>75</td>\n",
       "      <td>102</td>\n",
       "      <td>65</td>\n",
       "      <td>86</td>\n",
       "      <td>1</td>\n",
       "      <td>1.2</td>\n",
       "      <td>0</td>\n",
       "      <td>1</td>\n",
       "    </tr>\n",
       "    <tr>\n",
       "      <th>1</th>\n",
       "      <td>65.0</td>\n",
       "      <td>33</td>\n",
       "      <td>female</td>\n",
       "      <td>114</td>\n",
       "      <td>80</td>\n",
       "      <td>95</td>\n",
       "      <td>74</td>\n",
       "      <td>88</td>\n",
       "      <td>1</td>\n",
       "      <td>1.2</td>\n",
       "      <td>1</td>\n",
       "      <td>0</td>\n",
       "    </tr>\n",
       "    <tr>\n",
       "      <th>2</th>\n",
       "      <td>70.5</td>\n",
       "      <td>50</td>\n",
       "      <td>male</td>\n",
       "      <td>115</td>\n",
       "      <td>79</td>\n",
       "      <td>98</td>\n",
       "      <td>65</td>\n",
       "      <td>68</td>\n",
       "      <td>1</td>\n",
       "      <td>2.2</td>\n",
       "      <td>0</td>\n",
       "      <td>1</td>\n",
       "    </tr>\n",
       "    <tr>\n",
       "      <th>3</th>\n",
       "      <td>68.6</td>\n",
       "      <td>46</td>\n",
       "      <td>female</td>\n",
       "      <td>147</td>\n",
       "      <td>92</td>\n",
       "      <td>103</td>\n",
       "      <td>75</td>\n",
       "      <td>74</td>\n",
       "      <td>1</td>\n",
       "      <td>2.2</td>\n",
       "      <td>1</td>\n",
       "      <td>0</td>\n",
       "    </tr>\n",
       "    <tr>\n",
       "      <th>4</th>\n",
       "      <td>74.5</td>\n",
       "      <td>35</td>\n",
       "      <td>male</td>\n",
       "      <td>112</td>\n",
       "      <td>75</td>\n",
       "      <td>110</td>\n",
       "      <td>62</td>\n",
       "      <td>80</td>\n",
       "      <td>1</td>\n",
       "      <td>1.2</td>\n",
       "      <td>0</td>\n",
       "      <td>1</td>\n",
       "    </tr>\n",
       "  </tbody>\n",
       "</table>\n",
       "</div>"
      ],
      "text/plain": [
       "   Weight  Age  Gender  SBP  DBP  HeartRate  MAP  Oxygen_saturation  \\\n",
       "0    67.3   30    male  118   75        102   65                 86   \n",
       "1    65.0   33  female  114   80         95   74                 88   \n",
       "2    70.5   50    male  115   79         98   65                 68   \n",
       "3    68.6   46  female  147   92        103   75                 74   \n",
       "4    74.5   35    male  112   75        110   62                 80   \n",
       "\n",
       "   Timestamp  Remifentanil_flow  female  male  \n",
       "0          1                1.2       0     1  \n",
       "1          1                1.2       1     0  \n",
       "2          1                2.2       0     1  \n",
       "3          1                2.2       1     0  \n",
       "4          1                1.2       0     1  "
      ]
     },
     "execution_count": 6,
     "metadata": {},
     "output_type": "execute_result"
    }
   ],
   "source": [
    "df=pd.concat((dataset,dummy), axis = 1)\n",
    "df.head()"
   ]
  },
  {
   "cell_type": "code",
   "execution_count": 7,
   "id": "ded6d794",
   "metadata": {},
   "outputs": [
    {
     "data": {
      "text/html": [
       "<div>\n",
       "<style scoped>\n",
       "    .dataframe tbody tr th:only-of-type {\n",
       "        vertical-align: middle;\n",
       "    }\n",
       "\n",
       "    .dataframe tbody tr th {\n",
       "        vertical-align: top;\n",
       "    }\n",
       "\n",
       "    .dataframe thead th {\n",
       "        text-align: right;\n",
       "    }\n",
       "</style>\n",
       "<table border=\"1\" class=\"dataframe\">\n",
       "  <thead>\n",
       "    <tr style=\"text-align: right;\">\n",
       "      <th></th>\n",
       "      <th>Weight</th>\n",
       "      <th>Age</th>\n",
       "      <th>SBP</th>\n",
       "      <th>DBP</th>\n",
       "      <th>HeartRate</th>\n",
       "      <th>MAP</th>\n",
       "      <th>Oxygen_saturation</th>\n",
       "      <th>Timestamp</th>\n",
       "      <th>Remifentanil_flow</th>\n",
       "      <th>female</th>\n",
       "      <th>male</th>\n",
       "    </tr>\n",
       "  </thead>\n",
       "  <tbody>\n",
       "    <tr>\n",
       "      <th>0</th>\n",
       "      <td>67.3</td>\n",
       "      <td>30</td>\n",
       "      <td>118</td>\n",
       "      <td>75</td>\n",
       "      <td>102</td>\n",
       "      <td>65</td>\n",
       "      <td>86</td>\n",
       "      <td>1</td>\n",
       "      <td>1.2</td>\n",
       "      <td>0</td>\n",
       "      <td>1</td>\n",
       "    </tr>\n",
       "    <tr>\n",
       "      <th>1</th>\n",
       "      <td>65.0</td>\n",
       "      <td>33</td>\n",
       "      <td>114</td>\n",
       "      <td>80</td>\n",
       "      <td>95</td>\n",
       "      <td>74</td>\n",
       "      <td>88</td>\n",
       "      <td>1</td>\n",
       "      <td>1.2</td>\n",
       "      <td>1</td>\n",
       "      <td>0</td>\n",
       "    </tr>\n",
       "    <tr>\n",
       "      <th>2</th>\n",
       "      <td>70.5</td>\n",
       "      <td>50</td>\n",
       "      <td>115</td>\n",
       "      <td>79</td>\n",
       "      <td>98</td>\n",
       "      <td>65</td>\n",
       "      <td>68</td>\n",
       "      <td>1</td>\n",
       "      <td>2.2</td>\n",
       "      <td>0</td>\n",
       "      <td>1</td>\n",
       "    </tr>\n",
       "    <tr>\n",
       "      <th>3</th>\n",
       "      <td>68.6</td>\n",
       "      <td>46</td>\n",
       "      <td>147</td>\n",
       "      <td>92</td>\n",
       "      <td>103</td>\n",
       "      <td>75</td>\n",
       "      <td>74</td>\n",
       "      <td>1</td>\n",
       "      <td>2.2</td>\n",
       "      <td>1</td>\n",
       "      <td>0</td>\n",
       "    </tr>\n",
       "    <tr>\n",
       "      <th>4</th>\n",
       "      <td>74.5</td>\n",
       "      <td>35</td>\n",
       "      <td>112</td>\n",
       "      <td>75</td>\n",
       "      <td>110</td>\n",
       "      <td>62</td>\n",
       "      <td>80</td>\n",
       "      <td>1</td>\n",
       "      <td>1.2</td>\n",
       "      <td>0</td>\n",
       "      <td>1</td>\n",
       "    </tr>\n",
       "    <tr>\n",
       "      <th>...</th>\n",
       "      <td>...</td>\n",
       "      <td>...</td>\n",
       "      <td>...</td>\n",
       "      <td>...</td>\n",
       "      <td>...</td>\n",
       "      <td>...</td>\n",
       "      <td>...</td>\n",
       "      <td>...</td>\n",
       "      <td>...</td>\n",
       "      <td>...</td>\n",
       "      <td>...</td>\n",
       "    </tr>\n",
       "    <tr>\n",
       "      <th>671</th>\n",
       "      <td>50.0</td>\n",
       "      <td>32</td>\n",
       "      <td>144</td>\n",
       "      <td>89</td>\n",
       "      <td>94</td>\n",
       "      <td>75</td>\n",
       "      <td>90</td>\n",
       "      <td>1</td>\n",
       "      <td>1.5</td>\n",
       "      <td>0</td>\n",
       "      <td>1</td>\n",
       "    </tr>\n",
       "    <tr>\n",
       "      <th>672</th>\n",
       "      <td>50.0</td>\n",
       "      <td>32</td>\n",
       "      <td>146</td>\n",
       "      <td>89</td>\n",
       "      <td>94</td>\n",
       "      <td>75</td>\n",
       "      <td>88</td>\n",
       "      <td>2</td>\n",
       "      <td>1.3</td>\n",
       "      <td>1</td>\n",
       "      <td>0</td>\n",
       "    </tr>\n",
       "    <tr>\n",
       "      <th>673</th>\n",
       "      <td>50.0</td>\n",
       "      <td>32</td>\n",
       "      <td>145</td>\n",
       "      <td>90</td>\n",
       "      <td>93</td>\n",
       "      <td>75</td>\n",
       "      <td>87</td>\n",
       "      <td>2</td>\n",
       "      <td>1.4</td>\n",
       "      <td>1</td>\n",
       "      <td>0</td>\n",
       "    </tr>\n",
       "    <tr>\n",
       "      <th>674</th>\n",
       "      <td>50.0</td>\n",
       "      <td>32</td>\n",
       "      <td>168</td>\n",
       "      <td>87</td>\n",
       "      <td>97</td>\n",
       "      <td>75</td>\n",
       "      <td>78</td>\n",
       "      <td>2</td>\n",
       "      <td>1.4</td>\n",
       "      <td>0</td>\n",
       "      <td>1</td>\n",
       "    </tr>\n",
       "    <tr>\n",
       "      <th>675</th>\n",
       "      <td>58.5</td>\n",
       "      <td>30</td>\n",
       "      <td>160</td>\n",
       "      <td>93</td>\n",
       "      <td>93</td>\n",
       "      <td>74</td>\n",
       "      <td>67</td>\n",
       "      <td>2</td>\n",
       "      <td>1.4</td>\n",
       "      <td>0</td>\n",
       "      <td>1</td>\n",
       "    </tr>\n",
       "  </tbody>\n",
       "</table>\n",
       "<p>676 rows × 11 columns</p>\n",
       "</div>"
      ],
      "text/plain": [
       "     Weight  Age  SBP  DBP  HeartRate  MAP  Oxygen_saturation  Timestamp  \\\n",
       "0      67.3   30  118   75        102   65                 86          1   \n",
       "1      65.0   33  114   80         95   74                 88          1   \n",
       "2      70.5   50  115   79         98   65                 68          1   \n",
       "3      68.6   46  147   92        103   75                 74          1   \n",
       "4      74.5   35  112   75        110   62                 80          1   \n",
       "..      ...  ...  ...  ...        ...  ...                ...        ...   \n",
       "671    50.0   32  144   89         94   75                 90          1   \n",
       "672    50.0   32  146   89         94   75                 88          2   \n",
       "673    50.0   32  145   90         93   75                 87          2   \n",
       "674    50.0   32  168   87         97   75                 78          2   \n",
       "675    58.5   30  160   93         93   74                 67          2   \n",
       "\n",
       "     Remifentanil_flow  female  male  \n",
       "0                  1.2       0     1  \n",
       "1                  1.2       1     0  \n",
       "2                  2.2       0     1  \n",
       "3                  2.2       1     0  \n",
       "4                  1.2       0     1  \n",
       "..                 ...     ...   ...  \n",
       "671                1.5       0     1  \n",
       "672                1.3       1     0  \n",
       "673                1.4       1     0  \n",
       "674                1.4       0     1  \n",
       "675                1.4       0     1  \n",
       "\n",
       "[676 rows x 11 columns]"
      ]
     },
     "execution_count": 7,
     "metadata": {},
     "output_type": "execute_result"
    }
   ],
   "source": [
    "df=df.drop(['Gender'],axis=1)\n",
    "df"
   ]
  },
  {
   "cell_type": "code",
   "execution_count": 8,
   "id": "cf855399",
   "metadata": {
    "scrolled": true
   },
   "outputs": [
    {
     "data": {
      "text/html": [
       "<div>\n",
       "<style scoped>\n",
       "    .dataframe tbody tr th:only-of-type {\n",
       "        vertical-align: middle;\n",
       "    }\n",
       "\n",
       "    .dataframe tbody tr th {\n",
       "        vertical-align: top;\n",
       "    }\n",
       "\n",
       "    .dataframe thead th {\n",
       "        text-align: right;\n",
       "    }\n",
       "</style>\n",
       "<table border=\"1\" class=\"dataframe\">\n",
       "  <thead>\n",
       "    <tr style=\"text-align: right;\">\n",
       "      <th></th>\n",
       "      <th>Weight</th>\n",
       "      <th>Age</th>\n",
       "      <th>SBP</th>\n",
       "      <th>DBP</th>\n",
       "      <th>HeartRate</th>\n",
       "      <th>MAP</th>\n",
       "      <th>Oxygen_saturation</th>\n",
       "      <th>Timestamp</th>\n",
       "      <th>Remifentanil_flow</th>\n",
       "      <th>male</th>\n",
       "    </tr>\n",
       "  </thead>\n",
       "  <tbody>\n",
       "    <tr>\n",
       "      <th>0</th>\n",
       "      <td>67.3</td>\n",
       "      <td>30</td>\n",
       "      <td>118</td>\n",
       "      <td>75</td>\n",
       "      <td>102</td>\n",
       "      <td>65</td>\n",
       "      <td>86</td>\n",
       "      <td>1</td>\n",
       "      <td>1.2</td>\n",
       "      <td>1</td>\n",
       "    </tr>\n",
       "    <tr>\n",
       "      <th>1</th>\n",
       "      <td>65.0</td>\n",
       "      <td>33</td>\n",
       "      <td>114</td>\n",
       "      <td>80</td>\n",
       "      <td>95</td>\n",
       "      <td>74</td>\n",
       "      <td>88</td>\n",
       "      <td>1</td>\n",
       "      <td>1.2</td>\n",
       "      <td>0</td>\n",
       "    </tr>\n",
       "    <tr>\n",
       "      <th>2</th>\n",
       "      <td>70.5</td>\n",
       "      <td>50</td>\n",
       "      <td>115</td>\n",
       "      <td>79</td>\n",
       "      <td>98</td>\n",
       "      <td>65</td>\n",
       "      <td>68</td>\n",
       "      <td>1</td>\n",
       "      <td>2.2</td>\n",
       "      <td>1</td>\n",
       "    </tr>\n",
       "    <tr>\n",
       "      <th>3</th>\n",
       "      <td>68.6</td>\n",
       "      <td>46</td>\n",
       "      <td>147</td>\n",
       "      <td>92</td>\n",
       "      <td>103</td>\n",
       "      <td>75</td>\n",
       "      <td>74</td>\n",
       "      <td>1</td>\n",
       "      <td>2.2</td>\n",
       "      <td>0</td>\n",
       "    </tr>\n",
       "    <tr>\n",
       "      <th>4</th>\n",
       "      <td>74.5</td>\n",
       "      <td>35</td>\n",
       "      <td>112</td>\n",
       "      <td>75</td>\n",
       "      <td>110</td>\n",
       "      <td>62</td>\n",
       "      <td>80</td>\n",
       "      <td>1</td>\n",
       "      <td>1.2</td>\n",
       "      <td>1</td>\n",
       "    </tr>\n",
       "  </tbody>\n",
       "</table>\n",
       "</div>"
      ],
      "text/plain": [
       "   Weight  Age  SBP  DBP  HeartRate  MAP  Oxygen_saturation  Timestamp  \\\n",
       "0    67.3   30  118   75        102   65                 86          1   \n",
       "1    65.0   33  114   80         95   74                 88          1   \n",
       "2    70.5   50  115   79         98   65                 68          1   \n",
       "3    68.6   46  147   92        103   75                 74          1   \n",
       "4    74.5   35  112   75        110   62                 80          1   \n",
       "\n",
       "   Remifentanil_flow  male  \n",
       "0                1.2     1  \n",
       "1                1.2     0  \n",
       "2                2.2     1  \n",
       "3                2.2     0  \n",
       "4                1.2     1  "
      ]
     },
     "execution_count": 8,
     "metadata": {},
     "output_type": "execute_result"
    }
   ],
   "source": [
    "df=df.drop(['female'],axis=1)\n",
    "df.head()"
   ]
  },
  {
   "cell_type": "code",
   "execution_count": 9,
   "id": "3ceea343",
   "metadata": {},
   "outputs": [],
   "source": [
    "first_column=df.pop('male')"
   ]
  },
  {
   "cell_type": "code",
   "execution_count": 10,
   "id": "35959cfe",
   "metadata": {},
   "outputs": [],
   "source": [
    "df.insert(0, 'male', first_column)"
   ]
  },
  {
   "cell_type": "code",
   "execution_count": 11,
   "id": "80c22337",
   "metadata": {},
   "outputs": [
    {
     "data": {
      "text/html": [
       "<div>\n",
       "<style scoped>\n",
       "    .dataframe tbody tr th:only-of-type {\n",
       "        vertical-align: middle;\n",
       "    }\n",
       "\n",
       "    .dataframe tbody tr th {\n",
       "        vertical-align: top;\n",
       "    }\n",
       "\n",
       "    .dataframe thead th {\n",
       "        text-align: right;\n",
       "    }\n",
       "</style>\n",
       "<table border=\"1\" class=\"dataframe\">\n",
       "  <thead>\n",
       "    <tr style=\"text-align: right;\">\n",
       "      <th></th>\n",
       "      <th>male</th>\n",
       "      <th>Weight</th>\n",
       "      <th>Age</th>\n",
       "      <th>SBP</th>\n",
       "      <th>DBP</th>\n",
       "      <th>HeartRate</th>\n",
       "      <th>MAP</th>\n",
       "      <th>Oxygen_saturation</th>\n",
       "      <th>Timestamp</th>\n",
       "      <th>Remifentanil_flow</th>\n",
       "    </tr>\n",
       "  </thead>\n",
       "  <tbody>\n",
       "    <tr>\n",
       "      <th>0</th>\n",
       "      <td>1</td>\n",
       "      <td>67.3</td>\n",
       "      <td>30</td>\n",
       "      <td>118</td>\n",
       "      <td>75</td>\n",
       "      <td>102</td>\n",
       "      <td>65</td>\n",
       "      <td>86</td>\n",
       "      <td>1</td>\n",
       "      <td>1.2</td>\n",
       "    </tr>\n",
       "    <tr>\n",
       "      <th>1</th>\n",
       "      <td>0</td>\n",
       "      <td>65.0</td>\n",
       "      <td>33</td>\n",
       "      <td>114</td>\n",
       "      <td>80</td>\n",
       "      <td>95</td>\n",
       "      <td>74</td>\n",
       "      <td>88</td>\n",
       "      <td>1</td>\n",
       "      <td>1.2</td>\n",
       "    </tr>\n",
       "    <tr>\n",
       "      <th>2</th>\n",
       "      <td>1</td>\n",
       "      <td>70.5</td>\n",
       "      <td>50</td>\n",
       "      <td>115</td>\n",
       "      <td>79</td>\n",
       "      <td>98</td>\n",
       "      <td>65</td>\n",
       "      <td>68</td>\n",
       "      <td>1</td>\n",
       "      <td>2.2</td>\n",
       "    </tr>\n",
       "    <tr>\n",
       "      <th>3</th>\n",
       "      <td>0</td>\n",
       "      <td>68.6</td>\n",
       "      <td>46</td>\n",
       "      <td>147</td>\n",
       "      <td>92</td>\n",
       "      <td>103</td>\n",
       "      <td>75</td>\n",
       "      <td>74</td>\n",
       "      <td>1</td>\n",
       "      <td>2.2</td>\n",
       "    </tr>\n",
       "    <tr>\n",
       "      <th>4</th>\n",
       "      <td>1</td>\n",
       "      <td>74.5</td>\n",
       "      <td>35</td>\n",
       "      <td>112</td>\n",
       "      <td>75</td>\n",
       "      <td>110</td>\n",
       "      <td>62</td>\n",
       "      <td>80</td>\n",
       "      <td>1</td>\n",
       "      <td>1.2</td>\n",
       "    </tr>\n",
       "  </tbody>\n",
       "</table>\n",
       "</div>"
      ],
      "text/plain": [
       "   male  Weight  Age  SBP  DBP  HeartRate  MAP  Oxygen_saturation  Timestamp  \\\n",
       "0     1    67.3   30  118   75        102   65                 86          1   \n",
       "1     0    65.0   33  114   80         95   74                 88          1   \n",
       "2     1    70.5   50  115   79         98   65                 68          1   \n",
       "3     0    68.6   46  147   92        103   75                 74          1   \n",
       "4     1    74.5   35  112   75        110   62                 80          1   \n",
       "\n",
       "   Remifentanil_flow  \n",
       "0                1.2  \n",
       "1                1.2  \n",
       "2                2.2  \n",
       "3                2.2  \n",
       "4                1.2  "
      ]
     },
     "execution_count": 11,
     "metadata": {},
     "output_type": "execute_result"
    }
   ],
   "source": [
    "df.head()"
   ]
  },
  {
   "cell_type": "code",
   "execution_count": 12,
   "id": "6d185b93",
   "metadata": {},
   "outputs": [
    {
     "data": {
      "text/html": [
       "<div>\n",
       "<style scoped>\n",
       "    .dataframe tbody tr th:only-of-type {\n",
       "        vertical-align: middle;\n",
       "    }\n",
       "\n",
       "    .dataframe tbody tr th {\n",
       "        vertical-align: top;\n",
       "    }\n",
       "\n",
       "    .dataframe thead th {\n",
       "        text-align: right;\n",
       "    }\n",
       "</style>\n",
       "<table border=\"1\" class=\"dataframe\">\n",
       "  <thead>\n",
       "    <tr style=\"text-align: right;\">\n",
       "      <th></th>\n",
       "      <th>Gender</th>\n",
       "      <th>Weight</th>\n",
       "      <th>Age</th>\n",
       "      <th>SBP</th>\n",
       "      <th>DBP</th>\n",
       "      <th>HeartRate</th>\n",
       "      <th>MAP</th>\n",
       "      <th>Oxygen_saturation</th>\n",
       "      <th>Timestamp</th>\n",
       "      <th>Remifentanil_flow</th>\n",
       "    </tr>\n",
       "  </thead>\n",
       "  <tbody>\n",
       "    <tr>\n",
       "      <th>0</th>\n",
       "      <td>1</td>\n",
       "      <td>67.3</td>\n",
       "      <td>30</td>\n",
       "      <td>118</td>\n",
       "      <td>75</td>\n",
       "      <td>102</td>\n",
       "      <td>65</td>\n",
       "      <td>86</td>\n",
       "      <td>1</td>\n",
       "      <td>1.2</td>\n",
       "    </tr>\n",
       "    <tr>\n",
       "      <th>1</th>\n",
       "      <td>0</td>\n",
       "      <td>65.0</td>\n",
       "      <td>33</td>\n",
       "      <td>114</td>\n",
       "      <td>80</td>\n",
       "      <td>95</td>\n",
       "      <td>74</td>\n",
       "      <td>88</td>\n",
       "      <td>1</td>\n",
       "      <td>1.2</td>\n",
       "    </tr>\n",
       "    <tr>\n",
       "      <th>2</th>\n",
       "      <td>1</td>\n",
       "      <td>70.5</td>\n",
       "      <td>50</td>\n",
       "      <td>115</td>\n",
       "      <td>79</td>\n",
       "      <td>98</td>\n",
       "      <td>65</td>\n",
       "      <td>68</td>\n",
       "      <td>1</td>\n",
       "      <td>2.2</td>\n",
       "    </tr>\n",
       "    <tr>\n",
       "      <th>3</th>\n",
       "      <td>0</td>\n",
       "      <td>68.6</td>\n",
       "      <td>46</td>\n",
       "      <td>147</td>\n",
       "      <td>92</td>\n",
       "      <td>103</td>\n",
       "      <td>75</td>\n",
       "      <td>74</td>\n",
       "      <td>1</td>\n",
       "      <td>2.2</td>\n",
       "    </tr>\n",
       "    <tr>\n",
       "      <th>4</th>\n",
       "      <td>1</td>\n",
       "      <td>74.5</td>\n",
       "      <td>35</td>\n",
       "      <td>112</td>\n",
       "      <td>75</td>\n",
       "      <td>110</td>\n",
       "      <td>62</td>\n",
       "      <td>80</td>\n",
       "      <td>1</td>\n",
       "      <td>1.2</td>\n",
       "    </tr>\n",
       "    <tr>\n",
       "      <th>...</th>\n",
       "      <td>...</td>\n",
       "      <td>...</td>\n",
       "      <td>...</td>\n",
       "      <td>...</td>\n",
       "      <td>...</td>\n",
       "      <td>...</td>\n",
       "      <td>...</td>\n",
       "      <td>...</td>\n",
       "      <td>...</td>\n",
       "      <td>...</td>\n",
       "    </tr>\n",
       "    <tr>\n",
       "      <th>671</th>\n",
       "      <td>1</td>\n",
       "      <td>50.0</td>\n",
       "      <td>32</td>\n",
       "      <td>144</td>\n",
       "      <td>89</td>\n",
       "      <td>94</td>\n",
       "      <td>75</td>\n",
       "      <td>90</td>\n",
       "      <td>1</td>\n",
       "      <td>1.5</td>\n",
       "    </tr>\n",
       "    <tr>\n",
       "      <th>672</th>\n",
       "      <td>0</td>\n",
       "      <td>50.0</td>\n",
       "      <td>32</td>\n",
       "      <td>146</td>\n",
       "      <td>89</td>\n",
       "      <td>94</td>\n",
       "      <td>75</td>\n",
       "      <td>88</td>\n",
       "      <td>2</td>\n",
       "      <td>1.3</td>\n",
       "    </tr>\n",
       "    <tr>\n",
       "      <th>673</th>\n",
       "      <td>0</td>\n",
       "      <td>50.0</td>\n",
       "      <td>32</td>\n",
       "      <td>145</td>\n",
       "      <td>90</td>\n",
       "      <td>93</td>\n",
       "      <td>75</td>\n",
       "      <td>87</td>\n",
       "      <td>2</td>\n",
       "      <td>1.4</td>\n",
       "    </tr>\n",
       "    <tr>\n",
       "      <th>674</th>\n",
       "      <td>1</td>\n",
       "      <td>50.0</td>\n",
       "      <td>32</td>\n",
       "      <td>168</td>\n",
       "      <td>87</td>\n",
       "      <td>97</td>\n",
       "      <td>75</td>\n",
       "      <td>78</td>\n",
       "      <td>2</td>\n",
       "      <td>1.4</td>\n",
       "    </tr>\n",
       "    <tr>\n",
       "      <th>675</th>\n",
       "      <td>1</td>\n",
       "      <td>58.5</td>\n",
       "      <td>30</td>\n",
       "      <td>160</td>\n",
       "      <td>93</td>\n",
       "      <td>93</td>\n",
       "      <td>74</td>\n",
       "      <td>67</td>\n",
       "      <td>2</td>\n",
       "      <td>1.4</td>\n",
       "    </tr>\n",
       "  </tbody>\n",
       "</table>\n",
       "<p>676 rows × 10 columns</p>\n",
       "</div>"
      ],
      "text/plain": [
       "     Gender  Weight  Age  SBP  DBP  HeartRate  MAP  Oxygen_saturation  \\\n",
       "0         1    67.3   30  118   75        102   65                 86   \n",
       "1         0    65.0   33  114   80         95   74                 88   \n",
       "2         1    70.5   50  115   79         98   65                 68   \n",
       "3         0    68.6   46  147   92        103   75                 74   \n",
       "4         1    74.5   35  112   75        110   62                 80   \n",
       "..      ...     ...  ...  ...  ...        ...  ...                ...   \n",
       "671       1    50.0   32  144   89         94   75                 90   \n",
       "672       0    50.0   32  146   89         94   75                 88   \n",
       "673       0    50.0   32  145   90         93   75                 87   \n",
       "674       1    50.0   32  168   87         97   75                 78   \n",
       "675       1    58.5   30  160   93         93   74                 67   \n",
       "\n",
       "     Timestamp  Remifentanil_flow  \n",
       "0            1                1.2  \n",
       "1            1                1.2  \n",
       "2            1                2.2  \n",
       "3            1                2.2  \n",
       "4            1                1.2  \n",
       "..         ...                ...  \n",
       "671          1                1.5  \n",
       "672          2                1.3  \n",
       "673          2                1.4  \n",
       "674          2                1.4  \n",
       "675          2                1.4  \n",
       "\n",
       "[676 rows x 10 columns]"
      ]
     },
     "execution_count": 12,
     "metadata": {},
     "output_type": "execute_result"
    }
   ],
   "source": [
    "df.rename(columns={'male':'Gender'})"
   ]
  },
  {
   "cell_type": "code",
   "execution_count": 13,
   "id": "185be8c6",
   "metadata": {},
   "outputs": [
    {
     "name": "stdout",
     "output_type": "stream",
     "text": [
      "[[ 1.  67.3 30.  ... 65.  86.   1. ]\n",
      " [ 0.  65.  33.  ... 74.  88.   1. ]\n",
      " [ 1.  70.5 50.  ... 65.  68.   1. ]\n",
      " ...\n",
      " [ 0.  50.  32.  ... 75.  87.   2. ]\n",
      " [ 1.  50.  32.  ... 75.  78.   2. ]\n",
      " [ 1.  58.5 30.  ... 74.  67.   2. ]]\n"
     ]
    }
   ],
   "source": [
    "X = df.iloc[:,0:9].values\n",
    "print(X)"
   ]
  },
  {
   "cell_type": "code",
   "execution_count": 14,
   "id": "672e1450",
   "metadata": {},
   "outputs": [
    {
     "name": "stdout",
     "output_type": "stream",
     "text": [
      "[1.2 1.2 2.2 2.2 1.2 1.2 1.2 1.4 1.2 1.4 1.5 2.4 2.4 1.2 1.2 1.4 1.2 2.2\n",
      " 2.  2.2 2.2 2.2 2.2 2.2 2.2 2.2 2.2 2.  2.  2.2 2.2 2.4 2.4 2.4 2.4 2.4\n",
      " 2.4 2.4 2.4 2.4 2.3 2.4 2.4 2.4 2.4 2.2 2.2 2.2 2.2 2.  2.  2.  2.  2.\n",
      " 2.2 2.2 2.2 2.2 2.2 2.2 2.2 2.4 2.3 2.3 2.4 2.4 2.4 2.4 2.4 2.6 2.4 2.4\n",
      " 2.4 2.3 2.3 2.4 2.4 2.5 2.4 2.5 2.5 2.2 2.2 2.2 2.2 2.2 2.  2.  2.  2.\n",
      " 2.  2.  2.  2.  2.  2.  2.2 2.2 2.2 2.2 2.2 2.3 2.3 2.2 2.2 2.1 2.  2.\n",
      " 2.  2.1 2.2 2.  2.2 2.2 2.2 2.2 2.2 2.2 2.3 2.4 2.2 2.2 2.2 2.  1.4 1.4\n",
      " 1.4 1.4 1.5 1.4 1.5 1.6 1.5 1.4 1.4 1.4 1.4 1.5 1.5 1.4 1.4 1.4 1.4 1.6\n",
      " 1.5 1.5 1.5 1.5 1.4 1.4 1.4 1.2 1.2 1.2 1.3 1.1 1.1 1.1 1.2 1.2 1.2 1.2\n",
      " 1.2 1.2 1.2 1.2 1.2 1.2 1.3 1.1 1.2 1.2 1.2 1.2 1.2 1.2 1.8 1.9 1.  1.\n",
      " 1.1 1.1 1.  1.4 1.4 1.4 1.5 1.4 1.3 1.4 1.4 1.4 1.5 1.4 1.4 1.4 1.5 1.4\n",
      " 1.5 1.5 1.5 1.5 1.4 1.5 1.4 1.5 1.4 1.4 1.4 1.4 1.4 1.6 1.4 1.4 1.5 1.4\n",
      " 1.3 1.3 1.3 1.4 1.4 1.4 1.5 1.5 1.5 1.5 1.4 1.5 1.4 1.4 1.4 1.4 1.5 1.4\n",
      " 1.4 1.4 1.5 1.5 1.4 1.5 1.4 1.4 1.4 1.4 1.4 1.4 1.4 1.5 1.4 1.  1.  1.\n",
      " 1.  1.  1.2 1.2 1.2 1.2 1.2 1.2 1.2 1.  1.  1.  1.  1.  1.  1.  1.  1.2\n",
      " 1.2 1.1 1.1 1.1 1.2 1.2 1.2 1.  1.2 1.2 1.2 1.2 1.2 1.2 1.8 1.  1.3 1.1\n",
      " 1.2 1.2 1.2 1.2 1.2 1.2 1.2 1.2 1.2 1.  1.  1.  1.  1.  1.  1.2 1.2 1.2\n",
      " 1.3 1.2 1.2 1.2 1.  1.  1.  1.2 1.2 1.2 1.2 1.  1.  1.  1.  1.  1.  1.\n",
      " 2.2 2.2 2.3 2.3 2.3 2.2 2.  2.  2.2 2.2 2.2 2.2 2.2 2.2 2.2 2.2 2.4 2.3\n",
      " 2.2 2.2 2.2 2.  2.  2.  2.  2.  2.  2.  2.  2.3 2.3 2.3 2.3 2.3 2.2 2.2\n",
      " 2.3 2.3 2.2 2.2 2.2 2.2 2.2 2.3 2.3 2.3 2.3 2.3 2.3 2.3 2.2 2.2 2.  2.\n",
      " 2.  2.  2.  2.2 2.2 2.  2.  2.  2.  2.  2.  2.  2.  2.2 2.2 2.2 2.2 2.2\n",
      " 2.2 2.2 2.2 2.2 2.2 2.2 2.3 2.4 2.4 2.5 2.4 2.4 2.5 2.5 2.5 2.5 2.4 2.5\n",
      " 2.4 2.4 2.4 2.4 2.4 2.4 2.4 2.5 2.5 2.4 2.4 2.4 2.4 2.4 2.6 2.6 2.4 2.4\n",
      " 2.3 2.3 2.4 2.5 2.4 2.4 2.4 2.5 2.4 2.5 2.4 2.4 2.4 2.5 2.5 2.4 2.4 2.4\n",
      " 2.4 2.4 2.5 2.4 2.4 2.4 2.4 2.4 2.5 2.5 2.4 2.3 2.5 2.3 2.3 2.4 2.5 2.3\n",
      " 2.3 2.3 2.3 2.4 2.5 2.4 2.4 2.4 2.4 2.5 2.5 2.6 2.4 2.3 2.2 2.4 2.4 2.5\n",
      " 2.3 2.4 2.4 2.4 1.  1.  1.  1.2 1.2 1.3 1.2 1.2 1.2 1.2 1.2 1.3 1.  1.2\n",
      " 1.2 1.4 1.  1.  1.  1.  1.2 1.  1.  1.2 1.2 1.  1.  1.  1.  1.  1.  1.\n",
      " 1.  1.  1.  1.  1.  1.2 1.2 1.2 1.2 1.3 1.2 1.2 1.2 1.  1.  1.  1.  1.\n",
      " 1.  1.  1.  1.2 1.2 1.2 1.2 1.2 1.2 1.2 1.  1.  1.  1.  1.  1.  1.2 1.2\n",
      " 1.2 1.2 1.2 1.2 1.2 1.2 1.2 1.  1.  1.2 1.2 1.2 1.2 1.2 1.2 1.2 1.  1.2\n",
      " 1.4 1.4 1.4 1.4 1.4 1.4 1.3 1.4 1.4 1.4 1.4 1.4 1.4 1.4 1.4 1.4 1.4 1.4\n",
      " 1.3 1.3 1.3 1.3 1.3 1.4 1.4 1.3 1.3 1.3 1.3 1.3 1.3 1.3 1.4 1.4 1.4 1.4\n",
      " 1.4 1.4 1.4 1.4 1.4 1.4 1.4 1.4 1.4 1.4 1.4 1.4 1.3 1.5 1.5 1.5 1.5 1.4\n",
      " 1.5 1.5 1.5 1.5 1.4 1.4 1.4 1.4 1.4 1.4 1.4 1.4 1.4 1.4 1.4 1.4 1.5 1.4\n",
      " 1.4 1.5 1.4 1.4 1.3 1.4 1.4 1.4 1.4 1.4 1.5 1.5 1.5 1.5 1.4 1.4 1.4 1.4\n",
      " 1.4 1.5 1.4 1.4 1.4 1.5 1.3 1.4 1.4 1.4]\n"
     ]
    }
   ],
   "source": [
    "y = df.iloc[:,-1].values\n",
    "print(y)"
   ]
  },
  {
   "cell_type": "code",
   "execution_count": 15,
   "id": "f2315443",
   "metadata": {},
   "outputs": [],
   "source": [
    "from sklearn.model_selection import train_test_split\n",
    "X_train, X_test, y_train,y_test = train_test_split(X,y, test_size = 0.2, random_state=0)"
   ]
  },
  {
   "cell_type": "code",
   "execution_count": 16,
   "id": "d8b40fe8",
   "metadata": {},
   "outputs": [
    {
     "name": "stdout",
     "output_type": "stream",
     "text": [
      "(540, 9) (136, 9) (540,) (136,)\n"
     ]
    }
   ],
   "source": [
    "print(X_train.shape,X_test.shape,y_train.shape,y_test.shape)"
   ]
  },
  {
   "cell_type": "code",
   "execution_count": 17,
   "id": "d6e218fe",
   "metadata": {},
   "outputs": [
    {
     "data": {
      "text/plain": [
       "male                 0\n",
       "Weight               0\n",
       "Age                  0\n",
       "SBP                  0\n",
       "DBP                  0\n",
       "HeartRate            0\n",
       "MAP                  0\n",
       "Oxygen_saturation    0\n",
       "Timestamp            0\n",
       "Remifentanil_flow    0\n",
       "dtype: int64"
      ]
     },
     "execution_count": 17,
     "metadata": {},
     "output_type": "execute_result"
    }
   ],
   "source": [
    "df.isnull().sum()"
   ]
  },
  {
   "cell_type": "code",
   "execution_count": 18,
   "id": "5ad02662",
   "metadata": {},
   "outputs": [
    {
     "data": {
      "text/plain": [
       "LinearRegression()"
      ]
     },
     "execution_count": 18,
     "metadata": {},
     "output_type": "execute_result"
    }
   ],
   "source": [
    "from sklearn.linear_model import LinearRegression\n",
    "model = LinearRegression()\n",
    "model.fit(X_train, y_train)"
   ]
  },
  {
   "cell_type": "code",
   "execution_count": 19,
   "id": "14bf4279",
   "metadata": {},
   "outputs": [
    {
     "name": "stdout",
     "output_type": "stream",
     "text": [
      "[1.06216695 1.8666583  1.17280973 1.28993528 1.48764047 1.6207471\n",
      " 2.31901027 2.15042015 1.10129592 1.34166038 1.38318281 1.10376489\n",
      " 2.50612453 1.22232405 1.51622263 2.45964376 2.21248627 1.54072773\n",
      " 1.0746262  1.4907229  2.36862202 2.30765487 1.51257257 1.0883354\n",
      " 1.50902199 2.46168091 2.10140908 1.89862705 2.44174463 2.26459136\n",
      " 2.20794637 1.10915944 1.42224467 1.41496289 1.06547593 1.46516097\n",
      " 1.00374743 1.30889315 1.43276338 1.23154137 1.26042229 1.08742149\n",
      " 2.44249998 2.4944684  1.16195178 1.24997564 1.39097535 2.13109617\n",
      " 1.32308665 2.3457262  1.92097848 1.26153261 1.22008349 1.8542211\n",
      " 1.26457956 1.38574488 1.36922901 2.36872782 1.12087383 1.86499231\n",
      " 1.47456563 2.18741049 1.4379478  2.45783217 2.51786201 1.10136951\n",
      " 1.40487616 1.38333502 1.1479761  1.31437223 2.15904734 2.57518378\n",
      " 1.45783471 2.29988093 1.21256288 1.65774633 1.41778045 1.59826258\n",
      " 1.44106756 2.32267568 1.3690509  1.83636814 1.29666734 1.30059626\n",
      " 1.15419303 1.58164371 1.13914595 1.12416158 1.84068794 1.5011318\n",
      " 1.41827627 2.27282633 2.21517098 2.00880963 2.3569457  1.6228375\n",
      " 1.10149656 1.40053221 1.91446265 1.53796573 1.37750109 2.33525772\n",
      " 1.57049473 1.01769669 1.14270363 1.29916509 1.29261127 2.39405288\n",
      " 2.04728073 1.02758949 2.49788045 1.08892209 1.3041745  2.11779516\n",
      " 2.03570011 1.39892318 1.92411626 1.16983256 1.89040062 2.20892767\n",
      " 1.36608249 1.47453863 1.11269353 1.46135424 2.10407108 2.22411009\n",
      " 1.09089932 2.35395983 2.37871248 2.17414214 1.01061906 1.25865571\n",
      " 2.14689808 1.38935358 1.0522068  1.74641441 1.63114061 1.26518234\n",
      " 2.25489081 1.20453753 1.0571601  1.70876018 1.25666231 1.34003338\n",
      " 2.13374096 2.38918649 2.33521416 2.48433876 2.30885324 2.51137385\n",
      " 2.15913828 1.08061904 1.7824349  1.78722604 2.146452   1.62273149\n",
      " 2.40763039 1.22349567 2.17843639 1.16194958 1.75931524 1.36379452\n",
      " 1.70288634 1.5837066  2.47444633 1.2785943  2.37079537 1.45095655\n",
      " 1.877522   2.2502631  1.46209453 1.97738203 2.22322919 1.36618646\n",
      " 1.20937019 1.3929999  1.94680568 2.02919235 2.23899361 1.08311316\n",
      " 2.22932416 1.13261514 2.10357701 1.47833915 1.27445586 2.25932441\n",
      " 1.45383622 2.48654682 1.42980985 1.11905827 2.43992686 2.37505431\n",
      " 1.46354506 1.41335284 1.52087361 1.61348183 2.05611794 2.08583589\n",
      " 1.18458967 1.47576545 1.08979495 2.11744812 1.02247167 2.15324234\n",
      " 1.49732481 1.95729391 2.38254878 1.34778778 2.2602991  2.47478842\n",
      " 1.39971249 1.09721175 2.13826644 1.31616944 2.49823473 1.18117112\n",
      " 1.12100635 1.14471283 2.25554813 2.48597045 1.16936359 1.74787427\n",
      " 2.46343902 1.74418699 2.42043347 1.48100645 1.68134607 1.35338471\n",
      " 1.15820006 1.23343955 1.08541203 1.49252421 1.34622881 1.3191117\n",
      " 1.3523165  1.20427884 2.38937674 1.98848176 2.02106868 1.37962252\n",
      " 0.79665418 1.16572668 1.3636159  1.50182582 1.54890032 1.33277884\n",
      " 1.40265512 2.23903772 2.53887632 2.51504319 1.47912733 1.14265106\n",
      " 1.30954852 1.41245424 1.87943779 1.13613162 1.16354155 1.43664659\n",
      " 2.03460078 0.94767025 2.18062618 2.21290589 2.0180514  2.50281442\n",
      " 1.48238322 2.17875119 2.09964203 1.17843952 1.09573479 1.86150767\n",
      " 2.42477035 1.91134537 1.29738253 2.19264977 1.16189847 1.49144114\n",
      " 1.59576386 1.79441595 2.50896085 1.15148675 1.31154479 1.10482355\n",
      " 1.09978252 1.04091636 1.60806338 1.07754779 1.38470673 2.09665949\n",
      " 2.05274081 1.88478015 2.18700412 1.26276385 1.64916278 1.66804089\n",
      " 1.22015784 1.50047459 1.12808823 1.47304442 1.94290317 1.24912753\n",
      " 1.29875598 1.15433137 1.12119134 1.49928972 1.32090938 2.14906453\n",
      " 1.35279368 2.21156182 2.16615909 1.17383273 1.32813667 1.42701084\n",
      " 1.18176628 1.39817488 1.75878463 2.50965233 1.18767832 1.02488834\n",
      " 0.99445461 2.17737876 1.37121597 2.40821037 1.30563373 1.24557428\n",
      " 1.03854642 1.49444319 1.66029108 2.46057699 1.96121711 2.34367366\n",
      " 1.04280515 2.38475233 2.21110074 2.21478726 2.17984399 1.42992866\n",
      " 1.54027502 2.33517015 1.10294751 2.27883364 1.44115437 1.11285005\n",
      " 1.15419055 2.16795595 2.33363868 1.39434701 1.25440918 1.4334962\n",
      " 2.52581686 1.15554951 2.06893184 2.1370758  1.07752908 2.33960582\n",
      " 1.11651678 2.32624546 2.40934093 1.37673887 1.30866995 1.21285114\n",
      " 1.11190354 1.4008365  1.3668384  2.36033772 2.23273283 1.16972061\n",
      " 1.16252504 1.12494989 1.55533692 1.6173802  2.32200895 1.23746038\n",
      " 1.12670158 1.7208793  1.28333079 1.97203409 1.1657202  1.14767834\n",
      " 1.14714353 1.4444832  2.07268129 2.2197764  2.17325925 1.49597441\n",
      " 1.70864572 2.22239473 1.78821116 1.44770713 1.4147104  2.46932347\n",
      " 1.18475633 1.51660928 1.12047429 1.11587016 1.31348834 2.48182258\n",
      " 2.15018669 2.04038938 1.1419812  1.50539885 2.47098984 1.78557372\n",
      " 2.49161259 2.16431351 1.78991019 1.58991309 1.38086249 1.19726806\n",
      " 2.44777752 1.8356128  1.26666141 1.04495326 1.21923176 1.48214511\n",
      " 2.39988753 2.44522633 2.23579555 2.19286319 1.03067331 1.1589607\n",
      " 1.3728671  1.84300004 1.09737757 1.08498015 1.16531184 1.52482938\n",
      " 2.50805615 1.40259633 2.23386457 1.2534792  1.32976234 1.1713046\n",
      " 1.4734511  1.53571703 2.4502745  2.12889503 1.11669631 2.34494822\n",
      " 2.40687618 1.99407513 2.53314793 1.96274189 2.41088998 2.3818673\n",
      " 1.18637452 1.3950542  1.71215704 1.83835182 1.13618141 1.98096841\n",
      " 2.24899242 1.67235581 2.26049939 1.23564354 1.09572785 2.33382733\n",
      " 1.08179872 2.23201    1.45612987 2.34930982 1.01969734 2.24663154\n",
      " 1.20401275 1.21508619 1.38188465 1.8522345  1.43289249 1.51769643\n",
      " 1.30394044 1.18955966 1.24465068 2.15190406 1.29659167 1.75643501\n",
      " 1.5744959  1.5758302  1.88650499 2.20364371 1.53256565 1.96196728\n",
      " 1.30424283 1.30900616 2.33272276 1.86096878 1.89203197 2.46847165\n",
      " 2.00199418 1.01016383 1.91985506 1.17041739 1.1771603  1.57202083\n",
      " 2.5379764  2.38051808 1.30838562 2.25474497 2.19989981 1.09545145\n",
      " 2.48468549 0.96747744 1.94186404 1.35026369 1.79884837 2.36879573\n",
      " 1.24598549 2.32520552 1.12454124 1.40308032 1.48357945 1.09239198\n",
      " 1.1253854  1.3576401  1.17900534 1.16638734 2.33176099 1.74508494\n",
      " 1.59233501 1.96660157 2.3827476  2.34958485 1.97545277 2.13849281\n",
      " 0.94617986 1.43090448 1.40169934 2.10504048 0.90751426 2.48805066\n",
      " 1.08212403 2.29179045 1.33883099 2.50466819 2.02320676 1.27925953\n",
      " 1.01788045 1.38385844 2.1098751  1.44743096 1.38422838 1.12135553]\n"
     ]
    }
   ],
   "source": [
    "y_train_predict = model.predict(X_train)\n",
    "print(y_train_predict)"
   ]
  },
  {
   "cell_type": "code",
   "execution_count": 20,
   "id": "6f3f0605",
   "metadata": {},
   "outputs": [],
   "source": [
    "from sklearn.metrics import mean_absolute_error,mean_squared_error,explained_variance_score,r2_score"
   ]
  },
  {
   "cell_type": "code",
   "execution_count": 21,
   "id": "6b38c6f7",
   "metadata": {},
   "outputs": [
    {
     "data": {
      "text/plain": [
       "0.9486081370449679"
      ]
     },
     "execution_count": 21,
     "metadata": {},
     "output_type": "execute_result"
    }
   ],
   "source": [
    "y_true = [3, -0.5, 2, 7]\n",
    "y_train_pred = [2.5, 0.0, 2, 8]\n",
    "r2_score(y_true, y_train_pred) "
   ]
  },
  {
   "cell_type": "code",
   "execution_count": 22,
   "id": "ea02d7a3",
   "metadata": {},
   "outputs": [
    {
     "name": "stdout",
     "output_type": "stream",
     "text": [
      "0.885317048184686\n"
     ]
    }
   ],
   "source": [
    "print(r2_score(y_train,y_train_predict))"
   ]
  },
  {
   "cell_type": "code",
   "execution_count": 23,
   "id": "f23a55ab",
   "metadata": {},
   "outputs": [
    {
     "name": "stdout",
     "output_type": "stream",
     "text": [
      "0.13264671146981524\n"
     ]
    }
   ],
   "source": [
    "print(mean_absolute_error(y_train,y_train_predict))"
   ]
  },
  {
   "cell_type": "code",
   "execution_count": 24,
   "id": "6fd11959",
   "metadata": {},
   "outputs": [
    {
     "name": "stdout",
     "output_type": "stream",
     "text": [
      "0.1741885757144501\n"
     ]
    }
   ],
   "source": [
    "import numpy as np\n",
    "print(np.sqrt(mean_squared_error(y_train,y_train_predict)))"
   ]
  },
  {
   "cell_type": "code",
   "execution_count": 25,
   "id": "4d404fec",
   "metadata": {},
   "outputs": [
    {
     "name": "stdout",
     "output_type": "stream",
     "text": [
      "0.885317048184686\n"
     ]
    }
   ],
   "source": [
    "print(explained_variance_score(y_train, y_train_predict))"
   ]
  },
  {
   "cell_type": "code",
   "execution_count": 26,
   "id": "f60d5ff7",
   "metadata": {
    "scrolled": true
   },
   "outputs": [
    {
     "name": "stdout",
     "output_type": "stream",
     "text": [
      "[1.06499324 2.49729915 2.14545558 1.36154236 2.33505749 1.05681943\n",
      " 2.18818816 0.79082455 1.11981097 1.36815415 1.17016428 1.09321538\n",
      " 1.50144181 0.97475309 2.58147305 1.42557333 2.15580625 1.3328306\n",
      " 2.38819918 1.21832521 2.25791485 1.20325932 1.37283662 1.43604297\n",
      " 2.02048883 1.3702824  1.18788937 1.41775552 1.37915785 1.91884666\n",
      " 1.24614901 1.74589312 1.50756165 2.07099057 1.97467179 1.27636144\n",
      " 2.38596836 1.41741068 2.32883583 1.32045386 2.16512778 1.0915419\n",
      " 1.21381811 1.56557693 1.44007213 1.28634907 2.22655187 2.20148614\n",
      " 1.89202745 2.43796862 2.33607238 1.21544201 1.44292429 2.51845341\n",
      " 1.13442621 1.01814145 2.38245077 1.76917451 1.09356508 1.95289968\n",
      " 2.00493628 2.352637   1.32314671 2.26320872 2.11114855 2.16822606\n",
      " 1.92006526 2.42675476 1.3456597  1.48659898 2.48769648 2.22736369\n",
      " 2.22905289 2.16972609 1.07974537 1.14406539 1.28434239 1.31858304\n",
      " 1.13927903 2.30981082 2.46579085 1.25119332 1.93554463 1.93930451\n",
      " 2.48568071 1.41244018 2.39733729 2.35547933 1.46604189 1.19662874\n",
      " 2.27342226 1.50403374 2.36798777 1.17899497 0.97045155 2.44180112\n",
      " 2.21522619 1.38814535 1.44213541 2.39082007 1.23663029 1.53339633\n",
      " 1.44711846 2.39292345 1.30995721 1.50355807 1.1280039  2.42057946\n",
      " 1.62135933 1.36855008 1.10527191 2.14348093 1.42779809 2.26320062\n",
      " 2.44823581 2.34456599 1.53386377 2.4314073  2.1177878  1.28991654\n",
      " 2.36177575 1.44697504 1.10840847 1.52319912 2.24379287 1.08205138\n",
      " 1.31487208 1.92118488 1.71542404 1.16364462 2.46636262 2.1657712\n",
      " 2.13755145 1.41039365 1.31700228 1.36883103]\n"
     ]
    }
   ],
   "source": [
    "ytest_pred = model.predict(X_test)\n",
    "print(ytest_pred)"
   ]
  },
  {
   "cell_type": "code",
   "execution_count": 27,
   "id": "f4609f3b",
   "metadata": {},
   "outputs": [
    {
     "name": "stdout",
     "output_type": "stream",
     "text": [
      "0.8948783191730597\n"
     ]
    }
   ],
   "source": [
    "print(r2_score(y_test, ytest_pred))"
   ]
  },
  {
   "cell_type": "code",
   "execution_count": 28,
   "id": "d67441e8",
   "metadata": {},
   "outputs": [
    {
     "data": {
      "image/png": "[encoded data removed]",
      "text/plain": [
       "<Figure size 1152x432 with 1 Axes>"
      ]
     },
     "metadata": {
      "needs_background": "light"
     },
     "output_type": "display_data"
    }
   ],
   "source": [
    "#plotting the observed and the predicted remifentanil flow\n",
    "import matplotlib.pyplot as plt\n",
    "#setting the boundaries and the parameters\n",
    "plt.rcParams['figure.figsize']=(16,6)\n",
    "x_ax = range(len(X_test))\n",
    "#plotting\n",
    "plt.plot(x_ax, y_test,label ='Observed', color ='k', linestyle ='-')\n",
    "plt.plot(x_ax,ytest_pred,label = 'Predicted', color ='k', linestyle ='--')\n",
    "plt.ylabel('Remifentanil Flow')\n",
    "plt.xlabel('Testing sample data')\n",
    "plt.legend(bbox_to_anchor = (0.5,-0.2),loc = 'lower center', ncol =2, frameon = False)\n",
    "plt.show()"
   ]
  },
  {
   "cell_type": "code",
   "execution_count": 29,
   "id": "30de4816",
   "metadata": {},
   "outputs": [
    {
     "data": {
      "image/png": "[encoded data removed]",
      "text/plain": [
       "<Figure size 576x396 with 1 Axes>"
      ]
     },
     "metadata": {},
     "output_type": "display_data"
    },
    {
     "data": {
      "text/plain": [
       "<AxesSubplot:title={'center':'Prediction Error for LinearRegression'}, xlabel='$y$', ylabel='$\\\\hat{y}$'>"
      ]
     },
     "execution_count": 29,
     "metadata": {},
     "output_type": "execute_result"
    }
   ],
   "source": [
    "from yellowbrick.regressor import PredictionError\n",
    "visualizer = PredictionError(model)\n",
    "visualizer.fit(X_train, y_train)\n",
    "visualizer.score(X_test, y_test)\n",
    "visualizer.poof()"
   ]
  },
  {
   "cell_type": "code",
   "execution_count": 30,
   "id": "0018ffab",
   "metadata": {},
   "outputs": [
    {
     "data": {
      "image/png": "[encoded data removed]",
      "text/plain": [
       "<Figure size 576x396 with 2 Axes>"
      ]
     },
     "metadata": {},
     "output_type": "display_data"
    },
    {
     "data": {
      "text/plain": [
       "<AxesSubplot:title={'center':'Residuals for LinearRegression Model'}, xlabel='Predicted Value', ylabel='Residuals'>"
      ]
     },
     "execution_count": 30,
     "metadata": {},
     "output_type": "execute_result"
    }
   ],
   "source": [
    "from yellowbrick.regressor import ResidualsPlot\n",
    "visualizer = ResidualsPlot(model)\n",
    "visualizer.fit(X_train, y_train)\n",
    "visualizer.score(X_test, y_test)\n",
    "visualizer.poof()"
   ]
  },
  {
   "cell_type": "code",
   "execution_count": 31,
   "id": "46904766",
   "metadata": {},
   "outputs": [
    {
     "data": {
      "text/plain": [
       "array([1.28991654])"
      ]
     },
     "execution_count": 31,
     "metadata": {},
     "output_type": "execute_result"
    }
   ],
   "source": [
    "visualizer.predict([[0,65.0,33,114,80,95,74,88,1]])"
   ]
  },
  {
   "cell_type": "code",
   "execution_count": 32,
   "id": "d3ea9565",
   "metadata": {},
   "outputs": [
    {
     "data": {
      "text/plain": [
       "array([1.18117112])"
      ]
     },
     "execution_count": 32,
     "metadata": {},
     "output_type": "execute_result"
    }
   ],
   "source": [
    "visualizer.predict([[1,74.5,35,112,75,110,62,80,1]])"
   ]
  },
  {
   "cell_type": "code",
   "execution_count": 33,
   "id": "f019344a",
   "metadata": {},
   "outputs": [
    {
     "data": {
      "text/plain": [
       "array([1.74641441])"
      ]
     },
     "execution_count": 33,
     "metadata": {},
     "output_type": "execute_result"
    }
   ],
   "source": [
    "visualizer.predict([[0,68.6,46,147,92,103,75,74,1]])"
   ]
  },
  {
   "cell_type": "code",
   "execution_count": 34,
   "id": "bcdffbb8",
   "metadata": {},
   "outputs": [
    {
     "data": {
      "text/plain": [
       "array([2.57790103])"
      ]
     },
     "execution_count": 34,
     "metadata": {},
     "output_type": "execute_result"
    }
   ],
   "source": [
    "visualizer.predict([[1,80,56,134,90,68,70,67,1]])"
   ]
  },
  {
   "cell_type": "code",
   "execution_count": 35,
   "id": "3373698a",
   "metadata": {},
   "outputs": [
    {
     "data": {
      "text/plain": [
       "array([3.09122189])"
      ]
     },
     "execution_count": 35,
     "metadata": {},
     "output_type": "execute_result"
    }
   ],
   "source": [
    "visualizer.predict([[1,100,76,154,110,88,90,87,1]])"
   ]
  },
  {
   "cell_type": "code",
   "execution_count": 36,
   "id": "a0853611",
   "metadata": {},
   "outputs": [
    {
     "data": {
      "text/plain": [
       "array([2.57685349])"
      ]
     },
     "execution_count": 36,
     "metadata": {},
     "output_type": "execute_result"
    }
   ],
   "source": [
    "visualizer.predict([[0,80,56,134,90,68,70,67,1]])"
   ]
  },
  {
   "cell_type": "code",
   "execution_count": 37,
   "id": "4ffc4f63",
   "metadata": {},
   "outputs": [
    {
     "data": {
      "text/plain": [
       "array([2.59283352])"
      ]
     },
     "execution_count": 37,
     "metadata": {},
     "output_type": "execute_result"
    }
   ],
   "source": [
    "visualizer.predict([[1,80,56,134,90,68,70,67,2]])"
   ]
  },
  {
   "cell_type": "code",
   "execution_count": 38,
   "id": "682a250c",
   "metadata": {},
   "outputs": [
    {
     "data": {
      "text/plain": [
       "array([2.60776601])"
      ]
     },
     "execution_count": 38,
     "metadata": {},
     "output_type": "execute_result"
    }
   ],
   "source": [
    "visualizer.predict([[1,80,56,134,90,68,70,67,3]])"
   ]
  },
  {
   "cell_type": "code",
   "execution_count": 39,
   "id": "0ebf0e82",
   "metadata": {},
   "outputs": [
    {
     "data": {
      "text/plain": [
       "array([2.56296853])"
      ]
     },
     "execution_count": 39,
     "metadata": {},
     "output_type": "execute_result"
    }
   ],
   "source": [
    "visualizer.predict([[1,80,56,134,90,68,70,67,0]])"
   ]
  },
  {
   "cell_type": "code",
   "execution_count": 40,
   "id": "69d3ee90",
   "metadata": {},
   "outputs": [
    {
     "data": {
      "text/plain": [
       "array([2.01570109])"
      ]
     },
     "execution_count": 40,
     "metadata": {},
     "output_type": "execute_result"
    }
   ],
   "source": [
    "visualizer.predict([[1,60,36,114,70,48,60,67,1]])"
   ]
  },
  {
   "cell_type": "code",
   "execution_count": 41,
   "id": "28511aec",
   "metadata": {},
   "outputs": [
    {
     "data": {
      "text/plain": [
       "array([2.56296853])"
      ]
     },
     "execution_count": 41,
     "metadata": {},
     "output_type": "execute_result"
    }
   ],
   "source": [
    "visualizer.predict([[1,80,56,134,90,68,70,67,0]])"
   ]
  },
  {
   "cell_type": "code",
   "execution_count": 42,
   "id": "09769abc",
   "metadata": {},
   "outputs": [
    {
     "data": {
      "text/plain": [
       "array([2.57043478])"
      ]
     },
     "execution_count": 42,
     "metadata": {},
     "output_type": "execute_result"
    }
   ],
   "source": [
    "visualizer.predict([[1,80,56,134,90,68,70,67,0.5]])"
   ]
  },
  {
   "cell_type": "code",
   "execution_count": 43,
   "id": "0ba4faea",
   "metadata": {},
   "outputs": [
    {
     "data": {
      "text/plain": [
       "array([2.57790103])"
      ]
     },
     "execution_count": 43,
     "metadata": {},
     "output_type": "execute_result"
    }
   ],
   "source": [
    "visualizer.predict([[1,80,56,134,90,68,70,67,1]])"
   ]
  },
  {
   "cell_type": "code",
   "execution_count": 44,
   "id": "95abcc2e",
   "metadata": {},
   "outputs": [
    {
     "data": {
      "text/plain": [
       "array([1.6004452])"
      ]
     },
     "execution_count": 44,
     "metadata": {},
     "output_type": "execute_result"
    }
   ],
   "source": [
    "visualizer.predict([[1,72,34,104,78,75,75,87,1]])"
   ]
  },
  {
   "cell_type": "code",
   "execution_count": 45,
   "id": "f808c58f",
   "metadata": {},
   "outputs": [
    {
     "data": {
      "text/plain": [
       "array([0.70296134])"
      ]
     },
     "execution_count": 45,
     "metadata": {},
     "output_type": "execute_result"
    }
   ],
   "source": [
    "visualizer.predict([[1,40,16,114,81,90,66,87,1]])"
   ]
  },
  {
   "cell_type": "code",
   "execution_count": 46,
   "id": "0124d48d",
   "metadata": {},
   "outputs": [
    {
     "data": {
      "text/plain": [
       "array([1.74746194])"
      ]
     },
     "execution_count": 46,
     "metadata": {},
     "output_type": "execute_result"
    }
   ],
   "source": [
    "visualizer.predict([[1,68.6,46,147,92,103,75,74,1]])"
   ]
  },
  {
   "cell_type": "code",
   "execution_count": 47,
   "id": "ede1d5e2",
   "metadata": {},
   "outputs": [
    {
     "data": {
      "text/plain": [
       "array([1.31700228])"
      ]
     },
     "execution_count": 47,
     "metadata": {},
     "output_type": "execute_result"
    }
   ],
   "source": [
    "visualizer.predict([[0,50.0,32,145,90,93,75,87,2]])"
   ]
  },
  {
   "cell_type": "code",
   "execution_count": 48,
   "id": "cadb0925",
   "metadata": {},
   "outputs": [
    {
     "data": {
      "text/plain": [
       "array([1.83137068])"
      ]
     },
     "execution_count": 48,
     "metadata": {},
     "output_type": "execute_result"
    }
   ],
   "source": [
    "visualizer.predict([[1,70.0,52,165,110,113,95,107,2]])"
   ]
  },
  {
   "cell_type": "code",
   "execution_count": 49,
   "id": "fc9c5f63",
   "metadata": {},
   "outputs": [
    {
     "data": {
      "text/plain": [
       "array([1.83032315])"
      ]
     },
     "execution_count": 49,
     "metadata": {},
     "output_type": "execute_result"
    }
   ],
   "source": [
    "visualizer.predict([[0,70.0,52,165,110,113,95,107,2]])"
   ]
  },
  {
   "cell_type": "code",
   "execution_count": 50,
   "id": "479e15f3",
   "metadata": {},
   "outputs": [
    {
     "data": {
      "text/plain": [
       "array([1.81539065])"
      ]
     },
     "execution_count": 50,
     "metadata": {},
     "output_type": "execute_result"
    }
   ],
   "source": [
    "visualizer.predict([[0,70.0,52,165,110,113,95,107,1]])"
   ]
  },
  {
   "cell_type": "code",
   "execution_count": 51,
   "id": "e73245ff",
   "metadata": {},
   "outputs": [
    {
     "data": {
      "text/plain": [
       "array([1.84525564])"
      ]
     },
     "execution_count": 51,
     "metadata": {},
     "output_type": "execute_result"
    }
   ],
   "source": [
    "visualizer.predict([[0,70.0,52,165,110,113,95,107,3]])"
   ]
  },
  {
   "cell_type": "code",
   "execution_count": 74,
   "id": "5706f91c",
   "metadata": {},
   "outputs": [],
   "source": [
    "import pickle\n",
    "filename = 'saved_model.sv'\n",
    "pickle.dump(visualizer, open(filename, 'wb'))"
   ]
  },
  {
   "cell_type": "code",
   "execution_count": 75,
   "id": "0b694d01",
   "metadata": {},
   "outputs": [],
   "source": [
    "#loading the saved model\n",
    "loaded_model = pickle.load(open('saved_model.sv', 'rb'))"
   ]
  },
  {
   "cell_type": "code",
   "execution_count": 52,
   "id": "4b5acecd",
   "metadata": {},
   "outputs": [],
   "source": [
    "#Decision Tree algorithm\n"
   ]
  },
  {
   "cell_type": "code",
   "execution_count": 53,
   "id": "a79777cd",
   "metadata": {},
   "outputs": [
    {
     "data": {
      "text/plain": [
       "DecisionTreeRegressor()"
      ]
     },
     "execution_count": 53,
     "metadata": {},
     "output_type": "execute_result"
    }
   ],
   "source": [
    "from sklearn.tree import DecisionTreeRegressor\n",
    "model2 = DecisionTreeRegressor()\n",
    "model2.fit(X_train, y_train)"
   ]
  },
  {
   "cell_type": "code",
   "execution_count": 57,
   "id": "e38eebf7",
   "metadata": {},
   "outputs": [],
   "source": [
    "from sklearn.metrics import mean_absolute_error,mean_squared_error,explained_variance_score,r2_score"
   ]
  },
  {
   "cell_type": "code",
   "execution_count": 58,
   "id": "5a61acf8",
   "metadata": {},
   "outputs": [],
   "source": [
    "y_train_pred = model2.predict(X_train)\n"
   ]
  },
  {
   "cell_type": "code",
   "execution_count": 59,
   "id": "e5bf6306",
   "metadata": {},
   "outputs": [
    {
     "name": "stdout",
     "output_type": "stream",
     "text": [
      "1.0\n"
     ]
    }
   ],
   "source": [
    "print(r2_score(y_train,y_train_pred))"
   ]
  },
  {
   "cell_type": "code",
   "execution_count": 60,
   "id": "5090a9de",
   "metadata": {},
   "outputs": [
    {
     "name": "stdout",
     "output_type": "stream",
     "text": [
      "2.4671622769447922e-17\n"
     ]
    }
   ],
   "source": [
    "print(mean_absolute_error(y_train,y_train_pred))"
   ]
  },
  {
   "cell_type": "code",
   "execution_count": 61,
   "id": "e6c600c5",
   "metadata": {},
   "outputs": [
    {
     "name": "stdout",
     "output_type": "stream",
     "text": [
      "5.4782007307014706e-33\n"
     ]
    }
   ],
   "source": [
    "print(mean_squared_error(y_train, y_train_pred))"
   ]
  },
  {
   "cell_type": "code",
   "execution_count": 62,
   "id": "c9e6373f",
   "metadata": {},
   "outputs": [],
   "source": [
    "y_test_pred = model2.predict(X_test)"
   ]
  },
  {
   "cell_type": "code",
   "execution_count": 63,
   "id": "a39c1609",
   "metadata": {},
   "outputs": [
    {
     "name": "stdout",
     "output_type": "stream",
     "text": [
      "0.9445692533308372\n"
     ]
    }
   ],
   "source": [
    "print(r2_score(y_test, y_test_pred))"
   ]
  },
  {
   "cell_type": "code",
   "execution_count": 65,
   "id": "3ab67183",
   "metadata": {},
   "outputs": [
    {
     "data": {
      "image/png": "[encoded data removed]",
      "text/plain": [
       "<Figure size 1152x432 with 1 Axes>"
      ]
     },
     "metadata": {},
     "output_type": "display_data"
    }
   ],
   "source": [
    "#plotting the observed and the predicted Remifentanil Flow\n",
    "import matplotlib.pyplot as plt\n",
    "#setting the boundaries and the parameters\n",
    "plt.rcParams['figure.figsize']=(16,6)\n",
    "x_ax = range(len(X_test))\n",
    "#plotting\n",
    "plt.plot(x_ax, y_test,label ='Observed', color ='k', linestyle ='-')\n",
    "plt.plot(x_ax,y_test_pred,label = 'Predicted', color ='k', linestyle ='--')\n",
    "plt.ylabel('Remifentanil Flow')\n",
    "plt.xlabel('Testing sample data')\n",
    "plt.legend(bbox_to_anchor = (0.5,-0.2),loc = 'lower center', ncol =2, frameon = False)\n",
    "plt.show()"
   ]
  },
  {
   "cell_type": "code",
   "execution_count": 66,
   "id": "9e9dfe6b",
   "metadata": {},
   "outputs": [
    {
     "data": {
      "image/png": "[encoded data removed]",
      "text/plain": [
       "<Figure size 1152x432 with 1 Axes>"
      ]
     },
     "metadata": {},
     "output_type": "display_data"
    },
    {
     "data": {
      "text/plain": [
       "<AxesSubplot:title={'center':'Prediction Error for DecisionTreeRegressor'}, xlabel='$y$', ylabel='$\\\\hat{y}$'>"
      ]
     },
     "execution_count": 66,
     "metadata": {},
     "output_type": "execute_result"
    }
   ],
   "source": [
    "from yellowbrick.regressor import PredictionError\n",
    "visualizer2 = PredictionError(model2)\n",
    "visualizer2.fit(X_train, y_train)\n",
    "visualizer2.score(X_test, y_test)\n",
    "visualizer2.poof()"
   ]
  },
  {
   "cell_type": "code",
   "execution_count": 67,
   "id": "437c2a2d",
   "metadata": {},
   "outputs": [
    {
     "data": {
      "image/png": "[encoded data removed]",
      "text/plain": [
       "<Figure size 1152x432 with 2 Axes>"
      ]
     },
     "metadata": {},
     "output_type": "display_data"
    },
    {
     "data": {
      "text/plain": [
       "<AxesSubplot:title={'center':'Residuals for DecisionTreeRegressor Model'}, xlabel='Predicted Value', ylabel='Residuals'>"
      ]
     },
     "execution_count": 67,
     "metadata": {},
     "output_type": "execute_result"
    }
   ],
   "source": [
    "from yellowbrick.regressor import ResidualsPlot\n",
    "visualizer = ResidualsPlot(model2)\n",
    "visualizer.fit(X_train, y_train)\n",
    "visualizer.score(X_test, y_test)\n",
    "visualizer.poof()"
   ]
  },
  {
   "cell_type": "code",
   "execution_count": 68,
   "id": "d0c8924e",
   "metadata": {},
   "outputs": [
    {
     "data": {
      "text/plain": [
       "array([2.3])"
      ]
     },
     "execution_count": 68,
     "metadata": {},
     "output_type": "execute_result"
    }
   ],
   "source": [
    "visualizer2.predict([[0,70.0,52,165,110,113,95,107,3]])"
   ]
  },
  {
   "cell_type": "code",
   "execution_count": 69,
   "id": "841c3677",
   "metadata": {},
   "outputs": [
    {
     "data": {
      "text/plain": [
       "array([1.3])"
      ]
     },
     "execution_count": 69,
     "metadata": {},
     "output_type": "execute_result"
    }
   ],
   "source": [
    "visualizer.predict([[0,50.0,32,146,89,94,75,88,2]])"
   ]
  },
  {
   "cell_type": "code",
   "execution_count": 70,
   "id": "311575c1",
   "metadata": {},
   "outputs": [
    {
     "data": {
      "text/plain": [
       "array([1.3])"
      ]
     },
     "execution_count": 70,
     "metadata": {},
     "output_type": "execute_result"
    }
   ],
   "source": [
    "visualizer2.predict([[0,50.0,32,145,90,93,75,87,2]])"
   ]
  },
  {
   "cell_type": "code",
   "execution_count": 71,
   "id": "d37d6904",
   "metadata": {},
   "outputs": [
    {
     "data": {
      "text/plain": [
       "array([1.3])"
      ]
     },
     "execution_count": 71,
     "metadata": {},
     "output_type": "execute_result"
    }
   ],
   "source": [
    "visualizer2.predict([[1,50.0,32,144,89,94,75,90,1]])"
   ]
  },
  {
   "cell_type": "code",
   "execution_count": 72,
   "id": "6695eda3",
   "metadata": {},
   "outputs": [
    {
     "data": {
      "text/plain": [
       "array([2.2])"
      ]
     },
     "execution_count": 72,
     "metadata": {},
     "output_type": "execute_result"
    }
   ],
   "source": [
    "visualizer2.predict([[1,68.6,46,147,92,103,75,74,1]])"
   ]
  },
  {
   "cell_type": "code",
   "execution_count": 73,
   "id": "50bb439c",
   "metadata": {},
   "outputs": [
    {
     "data": {
      "text/plain": [
       "array([2.3])"
      ]
     },
     "execution_count": 73,
     "metadata": {},
     "output_type": "execute_result"
    }
   ],
   "source": [
    "visualizer2.predict([[1,88.6,66,167,112,123,95,94,1]])"
   ]
  },
  {
   "cell_type": "code",
   "execution_count": null,
   "id": "a5e5aedf",
   "metadata": {},
   "outputs": [],
   "source": []
  }
 ],
 "metadata": {
  "kernelspec": {
   "display_name": "Python 3 (ipykernel)",
   "language": "python",
   "name": "python3"
  },
  "language_info": {
   "codemirror_mode": {
    "name": "ipython",
    "version": 3
   },
   "file_extension": ".py",
   "mimetype": "text/x-python",
   "name": "python",
   "nbconvert_exporter": "python",
   "pygments_lexer": "ipython3",
   "version": "3.9.7"
  }
 },
 "nbformat": 4,
 "nbformat_minor": 5
}
